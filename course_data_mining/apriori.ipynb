{
 "cells": [
  {
   "cell_type": "code",
   "execution_count": 5,
   "metadata": {},
   "outputs": [],
   "source": [
    "# 输入数据集\n",
    "input=[['I1','I2','I5'],\n",
    "['I1','I2'],\n",
    "['I2','I4'],\n",
    "['I1','I2','I4'],\n",
    "['I1','I3'],\n",
    "['I1','I2','I3','I5'],\n",
    "['I1','I2','I3'],\n",
    "['I2','I5'],\n",
    "['I2','I3','I4'],\n",
    "['I3','I4']]"
   ]
  },
  {
   "cell_type": "code",
   "execution_count": 13,
   "metadata": {},
   "outputs": [
    {
     "name": "stdout",
     "output_type": "stream",
     "text": [
      "               items  support  \\\n",
      "0               (I1)      0.6   \n",
      "1               (I2)      0.8   \n",
      "2               (I3)      0.5   \n",
      "3               (I4)      0.4   \n",
      "4               (I5)      0.3   \n",
      "5           (I1, I2)      0.5   \n",
      "6           (I1, I3)      0.3   \n",
      "7           (I1, I4)      0.1   \n",
      "8           (I1, I5)      0.2   \n",
      "9           (I3, I2)      0.3   \n",
      "10          (I4, I2)      0.3   \n",
      "11          (I2, I5)      0.3   \n",
      "12          (I3, I4)      0.2   \n",
      "13          (I3, I5)      0.1   \n",
      "14      (I1, I3, I2)      0.2   \n",
      "15      (I1, I4, I2)      0.1   \n",
      "16      (I1, I2, I5)      0.2   \n",
      "17      (I1, I3, I5)      0.1   \n",
      "18      (I3, I4, I2)      0.1   \n",
      "19      (I3, I2, I5)      0.1   \n",
      "20  (I1, I3, I2, I5)      0.1   \n",
      "\n",
      "                                   ordered_statistics  \n",
      "0                              [((), (I1), 0.6, 1.0)]  \n",
      "1                              [((), (I2), 0.8, 1.0)]  \n",
      "2                              [((), (I3), 0.5, 1.0)]  \n",
      "3                              [((), (I4), 0.4, 1.0)]  \n",
      "4                              [((), (I5), 0.3, 1.0)]  \n",
      "5   [((), (I1, I2), 0.5, 1.0), ((I1), (I2), 0.8333...  \n",
      "6   [((), (I1, I3), 0.3, 1.0), ((I1), (I3), 0.5, 1...  \n",
      "7   [((), (I1, I4), 0.1, 1.0), ((I1), (I4), 0.1666...  \n",
      "8   [((), (I1, I5), 0.2, 1.0), ((I1), (I5), 0.3333...  \n",
      "9   [((), (I3, I2), 0.3, 1.0), ((I2), (I3), 0.3749...  \n",
      "10  [((), (I4, I2), 0.3, 1.0), ((I2), (I4), 0.3749...  \n",
      "11  [((), (I2, I5), 0.3, 1.0), ((I2), (I5), 0.3749...  \n",
      "12  [((), (I3, I4), 0.2, 1.0), ((I3), (I4), 0.4, 1...  \n",
      "13  [((), (I3, I5), 0.1, 1.0), ((I3), (I5), 0.2, 0...  \n",
      "14  [((), (I1, I3, I2), 0.2, 1.0), ((I1), (I3, I2)...  \n",
      "15  [((), (I1, I4, I2), 0.1, 1.0), ((I1), (I4, I2)...  \n",
      "16  [((), (I1, I2, I5), 0.2, 1.0), ((I1), (I2, I5)...  \n",
      "17  [((), (I1, I3, I5), 0.1, 1.0), ((I1), (I3, I5)...  \n",
      "18  [((), (I3, I4, I2), 0.1, 1.0), ((I2), (I3, I4)...  \n",
      "19  [((), (I3, I2, I5), 0.1, 1.0), ((I2), (I3, I5)...  \n",
      "20  [((), (I1, I3, I2, I5), 0.1, 1.0), ((I1), (I3,...  \n"
     ]
    }
   ],
   "source": [
    "# 使用apriori包中apyori函数实现apriori关联度规则挖掘\n",
    "from apyori import apriori\n",
    "import pandas as pd\n",
    "\n",
    "result = list(apriori(transactions=input,min_support=0.2,min_confidence = 0.8))\n",
    "\n",
    "result = pd.DataFrame(result)\n",
    "print(result)"
   ]
  }
 ],
 "metadata": {
  "kernelspec": {
   "display_name": "Python 3.9.7 ('base')",
   "language": "python",
   "name": "python3"
  },
  "language_info": {
   "codemirror_mode": {
    "name": "ipython",
    "version": 3
   },
   "file_extension": ".py",
   "mimetype": "text/x-python",
   "name": "python",
   "nbconvert_exporter": "python",
   "pygments_lexer": "ipython3",
   "version": "3.9.7"
  },
  "orig_nbformat": 4,
  "vscode": {
   "interpreter": {
    "hash": "af8259ad5c1c9c7a69bd6ea085234cf8fd3a6a37a71ca551828b314c4d89b0ad"
   }
  }
 },
 "nbformat": 4,
 "nbformat_minor": 2
}
