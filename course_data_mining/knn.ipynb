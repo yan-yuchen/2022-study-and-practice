{
 "cells": [
  {
   "cell_type": "code",
   "execution_count": 10,
   "metadata": {},
   "outputs": [
    {
     "name": "stdout",
     "output_type": "stream",
     "text": [
      "0.9166666666666666\n"
     ]
    }
   ],
   "source": [
    "from sklearn.neighbors import KNeighborsClassifier\n",
    "\n",
    "train_x = [[45, 2, 9],\n",
    "            [21, 17, 5],\n",
    "            [54, 9, 11],\n",
    "            [39, 0, 31],\n",
    "            [5, 2, 57],\n",
    "            [3, 2, 65],\n",
    "            [2, 3, 55],\n",
    "            [6, 4, 21],\n",
    "            [7, 46, 4],\n",
    "            [9, 39, 8],\n",
    "            [9, 38, 2],\n",
    "            [8, 34, 17]]\n",
    "train_y = ['喜剧片', '喜剧片','喜剧片','喜剧片',\n",
    "            '动作片', '动作片','动作片','动作片',\n",
    "            '爱情片','爱情片','爱情片','爱情片',]\n",
    "\n",
    "#构建knn分类模型，并指定 k 值\n",
    "KNN=KNeighborsClassifier(n_neighbors=3)\n",
    "#使用训练集训练模型\n",
    "KNN.fit(train_x,train_y)\n",
    "#评估模型的得分\n",
    "score=KNN.score(train_x,train_y)\n",
    "print(score)\n"
   ]
  },
  {
   "cell_type": "code",
   "execution_count": 8,
   "metadata": {},
   "outputs": [
    {
     "name": "stdout",
     "output_type": "stream",
     "text": [
      "['喜剧片']\n"
     ]
    }
   ],
   "source": [
    "x_test=[[23,3,17]]\n",
    "predict_result=KNN.predict(x_test)\n",
    "print(predict_result)"
   ]
  }
 ],
 "metadata": {
  "kernelspec": {
   "display_name": "Python 3.9.13 ('base')",
   "language": "python",
   "name": "python3"
  },
  "language_info": {
   "codemirror_mode": {
    "name": "ipython",
    "version": 3
   },
   "file_extension": ".py",
   "mimetype": "text/x-python",
   "name": "python",
   "nbconvert_exporter": "python",
   "pygments_lexer": "ipython3",
   "version": "3.9.13"
  },
  "orig_nbformat": 4,
  "vscode": {
   "interpreter": {
    "hash": "9d3dfda253458d162c522ca02e9a0ae1364b8215bff930fa03cee0dca092fe1a"
   }
  }
 },
 "nbformat": 4,
 "nbformat_minor": 2
}
