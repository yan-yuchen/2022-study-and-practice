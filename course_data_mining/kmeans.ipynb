{
 "cells": [
  {
   "cell_type": "code",
   "execution_count": 5,
   "metadata": {},
   "outputs": [
    {
     "name": "stderr",
     "output_type": "stream",
     "text": [
      "d:\\work\\miniconda3\\lib\\site-packages\\sklearn\\cluster\\_kmeans.py:1334: UserWarning: KMeans is known to have a memory leak on Windows with MKL, when there are less chunks than available threads. You can avoid it by setting the environment variable OMP_NUM_THREADS=1.\n",
      "  warnings.warn(\n"
     ]
    },
    {
     "name": "stdout",
     "output_type": "stream",
     "text": [
      "质心 [[1.875 2.35 ]\n",
      " [7.25  8.5  ]]\n",
      "标签 [0 0 1 1 0 1 1 0]\n",
      "SSE 34.447500000000005\n",
      "迭代次数 2\n",
      "分值 -34.4475\n"
     ]
    }
   ],
   "source": [
    "import numpy as np\n",
    "import matplotlib.pyplot as plt\n",
    "from sklearn.cluster import KMeans\n",
    "\n",
    "x = np.array([[1, 2], [1.5, 1.8], [5, 8], [8, 8], [1, 0.6], [9, 11], [7, 7],[4, 5]])\n",
    "\n",
    "# n_clusters ：簇的数量  即k值\n",
    "kmeans = KMeans(n_clusters=2)\n",
    "kmeans.fit(x)\n",
    "y = kmeans.predict(x)\n",
    "\n",
    "#获取聚类后质心\n",
    "print(\"质心\",kmeans.cluster_centers_)\n",
    "\n",
    "#获取每个样本所属的簇。标签的数值对应所属簇的索引\n",
    "print(\"标签\",kmeans.labels_)\n",
    "\n",
    "#获取 SSE（簇惯性）\n",
    "print(\"SSE\",kmeans.inertia_)\n",
    "\n",
    "#获取迭代次数\n",
    "print(\"迭代次数\",kmeans.n_iter_)\n",
    "#聚类的分值，分值越大，效果越好\n",
    "print(\"分值\",kmeans.score(x))"
   ]
  },
  {
   "cell_type": "code",
   "execution_count": 11,
   "metadata": {},
   "outputs": [
    {
     "data": {
      "text/plain": [
       "<matplotlib.collections.PathCollection at 0x2191bab7190>"
      ]
     },
     "execution_count": 11,
     "metadata": {},
     "output_type": "execute_result"
    },
    {
     "data": {
      "image/png": "[encoded data removed]",
      "text/plain": [
       "<Figure size 640x480 with 1 Axes>"
      ]
     },
     "metadata": {},
     "output_type": "display_data"
    }
   ],
   "source": [
    "centers=kmeans.cluster_centers_\n",
    "plt.scatter(x[:,0],x[:,1],c=y) # 预测结果\n",
    "plt.scatter(centers[:,0],centers[:,1],marker='*') # 画出两个簇的质心\n"
   ]
  },
  {
   "cell_type": "code",
   "execution_count": 1,
   "metadata": {},
   "outputs": [
    {
     "data": {
      "text/plain": [
       "<matplotlib.collections.PathCollection at 0x1f61d0b6b20>"
      ]
     },
     "execution_count": 1,
     "metadata": {},
     "output_type": "execute_result"
    },
    {
     "data": {
      "image/png": "[encoded data removed]",
      "text/plain": [
       "<Figure size 640x480 with 1 Axes>"
      ]
     },
     "metadata": {},
     "output_type": "display_data"
    }
   ],
   "source": [
    "import numpy as np\n",
    "import matplotlib.pyplot as plt\n",
    "\n",
    "data = np.array([[1, 2], [1.5, 1.8], [5, 8], [8, 8], [1, 0.6], [9, 11], [7, 7],[4, 5]])\n",
    "k=2\n",
    "iterations=10\n",
    "tol=0.01\n",
    "\n",
    "# 随机初始化质心\n",
    "# 从n条数据中随机选择K条，作为初始中心向量\n",
    "def random_initial_centers(data,k):\n",
    "    centers_id=np.random.randint(0,len(data),k)\n",
    "    centers=data[centers_id]\n",
    "    return centers\n",
    "\n",
    "# 样本点分类\n",
    "def samples_classify(data,centers,k):\n",
    "    c=np.zeros(len(data))\n",
    "    var=0 # k个质心与每个点之间的距离总和\n",
    "\n",
    "    for i in range(len(data)):\n",
    "        # 计算k个质心与每个点之间的距离\n",
    "        dis=(np.tile(data[i],(k,1))-centers)**2  # np.tile(a,(x,y,z))表示将数组a在行上重复x次，在列上重复y次，在第三维度重复z次\n",
    "        ad_dis=dis.sum(axis=1)  # 每一行相加，共k行\n",
    "        sq_dis=ad_dis**0.5\n",
    "        var=var+sum(sq_dis)\n",
    "        # 分组:取距离最小的索引为当前点的分组\n",
    "        c[i]=np.argmin(sq_dis)\n",
    "\n",
    "    return c,var\n",
    "\n",
    "\n",
    "# 更新样本质点\n",
    "def renew_centers(data,centers,c,k):\n",
    "    # 对分类c中每一类求其坐标均值，得到新的样本质点\n",
    "    for i in range(k):\n",
    "        index=np.where(c==i)[0]  # 选择出分类c中等于i的\n",
    "        centers[i]=data[index].sum(axis=0)/len(index)\n",
    "    return centers\n",
    "\n",
    "# 需要聚类的数据data\n",
    "# K 聚类的个数\n",
    "# tol 聚类的容差，即ΔJ\n",
    "# 聚类迭代都最大次数N\n",
    "def kmeans_main(data,k,tol,iterations):\n",
    "    centers=random_initial_centers(data,k)\n",
    "    c,var=samples_classify(data,centers,k)\n",
    "    last_var=1e-9\n",
    "    count=0\n",
    "\n",
    "    # 当ΔJ大于容差且循环次数小于迭代次数，一直迭代。负责结束聚类\n",
    "    while(abs(var-last_var)>tol and count<iterations):\n",
    "        last_var=var\n",
    "        c,var=samples_classify(data,centers,k)\n",
    "        centers=renew_centers(data,centers,c,k)\n",
    "        count=count+1\n",
    "\n",
    "    return c,centers\n",
    "\n",
    "c,centers=kmeans_main(data,k,tol,iterations)\n",
    "\n",
    "plt.scatter(data[:,0],data[:,1],c=c) # 预测结果\n",
    "plt.scatter(centers[:,0],centers[:,1],marker='*') # 画出两个簇的质心\n"
   ]
  }
 ],
 "metadata": {
  "kernelspec": {
   "display_name": "Python 3.9.13 ('base')",
   "language": "python",
   "name": "python3"
  },
  "language_info": {
   "codemirror_mode": {
    "name": "ipython",
    "version": 3
   },
   "file_extension": ".py",
   "mimetype": "text/x-python",
   "name": "python",
   "nbconvert_exporter": "python",
   "pygments_lexer": "ipython3",
   "version": "3.9.13"
  },
  "orig_nbformat": 4,
  "vscode": {
   "interpreter": {
    "hash": "9d3dfda253458d162c522ca02e9a0ae1364b8215bff930fa03cee0dca092fe1a"
   }
  }
 },
 "nbformat": 4,
 "nbformat_minor": 2
}
