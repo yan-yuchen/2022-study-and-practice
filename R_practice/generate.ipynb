{
 "cells": [
  {
   "cell_type": "code",
   "execution_count": 40,
   "metadata": {},
   "outputs": [
    {
     "name": "stdout",
     "output_type": "stream",
     "text": [
      "18.570197871993976 ,\n",
      "15.031428987728116 ,\n",
      "12.905972305178473 ,\n",
      "9.771798522208046 ,\n",
      "2.9241507331776972 ,\n",
      "8.813747031750367 ,\n",
      "10.528916637738678 ,\n",
      "5.69613994955805 ,\n",
      "10.61582697772992 ,\n",
      "12.15431988188042 ,\n",
      "20.01652910892427 ,\n",
      "12.733645417027226 ,\n",
      "14.161206245864431 ,\n",
      "4.033627437843394 ,\n",
      "8.15071025578938 ,\n",
      "9.96235142662901 ,\n",
      "11.921962472881747 ,\n",
      "8.894805984011981 ,\n",
      "8.660709261406474 ,\n",
      "10.410970759539607 ,\n",
      "14.68162876138132 ,\n",
      "9.513316068525562 ,\n",
      "11.070577512492317 ,\n",
      "12.859970837827646 ,\n",
      "1.6166478480024367 ,\n",
      "7.693084449183642 ,\n",
      "12.981702002662342 ,\n",
      "18.242559746356736 ,\n",
      "4.375676002248214 ,\n",
      "9.198496179680832 ,\n",
      "11.333743854648587 ,\n",
      "1.5849680476751065 ,\n",
      "3.6605234225229832 ,\n",
      "19.877919611085023 ,\n",
      "10.910686837616407 ,\n",
      "5.630859025379078 ,\n",
      "14.52509605048561 ,\n",
      "6.240170220238483 ,\n",
      "19.639871069941535 ,\n",
      "11.129428216622898 ,\n",
      "12.656404749118948 ,\n",
      "-0.016112967436541226 ,\n",
      "12.74249203550115 ,\n",
      "6.011044800150675 ,\n",
      "5.025612405053611 ,\n",
      "2.445106309566537 ,\n",
      "9.292738861605029 ,\n",
      "15.563100373846767 ,\n",
      "11.029841153903053 ,\n",
      "6.116120263669691 ,\n"
     ]
    },
    {
     "data": {
      "text/plain": [
       "10.07184582036834"
      ]
     },
     "execution_count": 40,
     "metadata": {},
     "output_type": "execute_result"
    }
   ],
   "source": [
    "import pandas as pd\n",
    "import numpy as np\n",
    "import matplotlib.pyplot as plt\n",
    "\n",
    "# result = np.random.randint(-65, 80, size=100) # 最小值,最大值,数量\n",
    "result = np.random.normal(10, 5, 50)  # 均值，标准差，数据数量\n",
    "\n",
    "\n",
    "for i in result:\n",
    "     print(i,',')\n",
    "\n",
    "np.mean(result)\n"
   ]
  },
  {
   "cell_type": "code",
   "execution_count": 42,
   "metadata": {},
   "outputs": [
    {
     "name": "stdout",
     "output_type": "stream",
     "text": [
      "-12 ,\n",
      "18 ,\n",
      "-13 ,\n",
      "-4 ,\n",
      "63 ,\n",
      "32 ,\n",
      "-2 ,\n",
      "-56 ,\n",
      "79 ,\n",
      "-36 ,\n",
      "-44 ,\n",
      "-38 ,\n",
      "-19 ,\n",
      "66 ,\n",
      "-41 ,\n",
      "-13 ,\n",
      "24 ,\n",
      "7 ,\n",
      "37 ,\n",
      "-34 ,\n",
      "-27 ,\n",
      "6 ,\n",
      "-14 ,\n",
      "59 ,\n",
      "-2 ,\n",
      "-55 ,\n",
      "-25 ,\n",
      "30 ,\n",
      "42 ,\n",
      "70 ,\n",
      "70 ,\n",
      "-51 ,\n",
      "22 ,\n",
      "39 ,\n",
      "77 ,\n",
      "27 ,\n",
      "-14 ,\n",
      "29 ,\n",
      "-38 ,\n",
      "-40 ,\n",
      "-19 ,\n",
      "70 ,\n",
      "59 ,\n",
      "41 ,\n",
      "-55 ,\n",
      "-41 ,\n",
      "65 ,\n",
      "-47 ,\n",
      "31 ,\n",
      "36 ,\n"
     ]
    },
    {
     "data": {
      "text/plain": [
       "7.18"
      ]
     },
     "execution_count": 42,
     "metadata": {},
     "output_type": "execute_result"
    }
   ],
   "source": [
    "import pandas as pd\n",
    "import numpy as np\n",
    "import matplotlib.pyplot as plt\n",
    "\n",
    "result = np.random.randint(-65, 80, size=50) # 最小值,最大值,数量\n",
    "\n",
    "\n",
    "for i in result:\n",
    "    print(i, ',')\n",
    "\n",
    "np.mean(result)\n"
   ]
  }
 ],
 "metadata": {
  "kernelspec": {
   "display_name": "Python 3.9.7 ('base')",
   "language": "python",
   "name": "python3"
  },
  "language_info": {
   "codemirror_mode": {
    "name": "ipython",
    "version": 3
   },
   "file_extension": ".py",
   "mimetype": "text/x-python",
   "name": "python",
   "nbconvert_exporter": "python",
   "pygments_lexer": "ipython3",
   "version": "3.9.7"
  },
  "orig_nbformat": 4,
  "vscode": {
   "interpreter": {
    "hash": "af8259ad5c1c9c7a69bd6ea085234cf8fd3a6a37a71ca551828b314c4d89b0ad"
   }
  }
 },
 "nbformat": 4,
 "nbformat_minor": 2
}
