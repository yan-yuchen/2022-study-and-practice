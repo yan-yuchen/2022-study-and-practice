{
 "cells": [
  {
   "cell_type": "code",
   "execution_count": null,
   "metadata": {},
   "outputs": [],
   "source": [
    "## CycleGAN 论文\n",
    "### Unpaired Image-to-Image Translation using Cycle-Consistent Adversarial Networks 作者 Jun-Yan Zhu, Taesung Park, Phillip Isola, Alexei A. Efros\n",
    "\n",
    "## 论文简介\n",
    "图像到图像转换是一类视觉和图形问题，其目标是使用一组对齐的图像对来学习输入图像和输出图像之间的映射。但是，对于许多任务，配对训练数据将不可用。\n",
    "我们提出了一种在没有配对示例的情况下学习将图像从源域 X 转换到目标域 Y 的方法。我们的目标是学习一个映射 G:X→Y，使得来自 G(X) 的图像分布与使用对抗性损失的分布 Y 无法区分。\n",
    "因为这个映射是高度欠约束的，我们将它与逆映射 F:Y→X 结合起来，并引入循环一致性损失来推动 F(G(X))≈X（反之亦然）。\n",
    "在不存在配对训练数据的几个任务上给出了定性结果，包括集合风格迁移、对象变形、季节迁移、照片增强等。与几种先前方法的定量比较证明了我们方法的优越性。\n",
    "\n",
    "## 数据集\n",
    "下载地址：https://people.eecs.berkeley.edu/~taesung_park/CycleGAN/datasets/\n",
    "在root/pytorch-CycleGAN-and-pix2pix-master/datasets目录下新建文件夹label2image，在label2image下放入对应的 trainA 和，trainB，testA，testB，\n",
    "\n",
    "## 训练\n",
    "在目录root/pytorch-CycleGAN-and-pix2pix-master中运行\n",
    "python3 train.py --dataroot ./datasets/label2image --name label2image_cyclegan --model cycle_gan --pool_size 50 --no_dropout --gpu_ids 0\n",
    "##### 模型在checkpoint文件夹里\n",
    "\n",
    "## 测试\n",
    "在目录root/pytorch-CycleGAN-and-pix2pix-master中运行\n",
    "python test.py --dataroot ./datasets/label2image --name label2image_cyclegan --model cycle_gan --phase test --no_dropout\n",
    "##### 结果就在results文件夹里了"
   ]
  }
 ],
 "metadata": {
  "accelerator": "GPU",
  "colab": {
   "collapsed_sections": [],
   "include_colab_link": true,
   "name": "CycleGAN",
   "provenance": []
  },
  "environment": {
   "name": "tf2-gpu.2-3.m74",
   "type": "gcloud",
   "uri": "gcr.io/deeplearning-platform-release/tf2-gpu.2-3:m74"
  },
  "kernelspec": {
   "display_name": "Python 3",
   "language": "python",
   "name": "python3"
  },
  "language_info": {
   "codemirror_mode": {
    "name": "ipython",
    "version": 3
   },
   "file_extension": ".py",
   "mimetype": "text/x-python",
   "name": "python",
   "nbconvert_exporter": "python",
   "pygments_lexer": "ipython3",
   "version": "3.8.10"
  }
 },
 "nbformat": 4,
 "nbformat_minor": 4
}
