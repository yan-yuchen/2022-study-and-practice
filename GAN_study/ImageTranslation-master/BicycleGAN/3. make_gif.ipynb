{
 "cells": [
  {
   "cell_type": "code",
   "execution_count": 1,
   "metadata": {},
   "outputs": [],
   "source": [
    "import imageio\n",
    "import os\n",
    "\n",
    "num_epochs = 100\n",
    "\n",
    "save_dir='result/edges2shoes/'\n",
    "\n",
    "gen_image_plots = []\n",
    "for epoch in range(1, num_epochs + 1):\n",
    "    for j in range(25000):\n",
    "        # plot for generating gif\n",
    "        save_fn = save_dir + '{}_{}.png'.format(epoch, j)\n",
    "        if os.path.isfile(save_fn):\n",
    "            gen_image_plots.append(imageio.imread(save_fn))    \n",
    "    imageio.mimsave('./result/edges2shoes_gif/' + 'BicycleGAN_edges2shoes_epochs_{:d}'.format(epoch) + '.gif', gen_image_plots, fps=5)\n",
    "    gen_image_plots = []"
   ]
  },
  {
   "cell_type": "code",
   "execution_count": null,
   "metadata": {},
   "outputs": [],
   "source": []
  },
  {
   "cell_type": "code",
   "execution_count": null,
   "metadata": {},
   "outputs": [],
   "source": []
  }
 ],
 "metadata": {
  "kernelspec": {
   "display_name": "Python 3",
   "language": "python",
   "name": "python3"
  },
  "language_info": {
   "codemirror_mode": {
    "name": "ipython",
    "version": 3
   },
   "file_extension": ".py",
   "mimetype": "text/x-python",
   "name": "python",
   "nbconvert_exporter": "python",
   "pygments_lexer": "ipython3",
   "version": "3.6.4"
  }
 },
 "nbformat": 4,
 "nbformat_minor": 2
}
